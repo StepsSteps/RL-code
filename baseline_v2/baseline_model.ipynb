{
 "cells": [
  {
   "cell_type": "code",
   "execution_count": 1,
   "metadata": {},
   "outputs": [],
   "source": [
    "import baseline_methods as bm\n",
    "import numpy as np\n",
    "import pandas as pd\n",
    "%load_ext autoreload\n",
    "%autoreload 2"
   ]
  },
  {
   "cell_type": "code",
   "execution_count": 2,
   "metadata": {},
   "outputs": [
    {
     "name": "stdout",
     "output_type": "stream",
     "text": [
      "(70, 78912, 2)\n",
      "(70, 78912)\n"
     ]
    }
   ],
   "source": [
    "us_delay = np.load('./udata/udelay.npy')\n",
    "print(us_delay.shape)\n",
    "# Shape(N, T, F)\n",
    "\n",
    "# us_delay_1 arrival delay\n",
    "us_delay_1 = us_delay[:, :, 0]\n",
    "# us_delay_1 departure delay\n",
    "us_delay_2 = us_delay[:, :, 1]\n",
    "\n",
    "print(us_delay_1.shape)"
   ]
  },
  {
   "cell_type": "markdown",
   "metadata": {},
   "source": [
    "# HA\n"
   ]
  },
  {
   "cell_type": "code",
   "execution_count": 3,
   "metadata": {},
   "outputs": [
    {
     "name": "stderr",
     "output_type": "stream",
     "text": [
      "c:\\Users\\86137\\Desktop\\baseline\\baseline_methods.py:73: RuntimeWarning: Mean of empty slice.\n",
      "  y_predict[k, i - n_train] = historical[k, :][~np.isnan(historical[k, :])].mean()\n",
      "d:\\Anaconda\\envs\\delay_pred\\lib\\site-packages\\numpy\\core\\_methods.py:189: RuntimeWarning: invalid value encountered in double_scalars\n",
      "  ret = ret.dtype.type(ret / rcount)\n"
     ]
    },
    {
     "name": "stdout",
     "output_type": "stream",
     "text": [
      "The test error for arrival prediction delay using HA is (9.089, 11.847, 1.149)\n",
      "The test error for delay prediction delay using HA is (6.519, 8.631, 1.284)\n"
     ]
    }
   ],
   "source": [
    "# y_predict, y_test = bm.historical_average_predict(\n",
    "#     cn_delay_1, period=2*18, test_ratio=0.2)\n",
    "# ha_a_mae, ha_a_rmse, ha_a_mape = bm.test_error(y_predict, y_test)\n",
    "# y_predict, y_test = bm.historical_average_predict(\n",
    "#     cn_delay_2, period=2*18, test_ratio=0.2)\n",
    "\n",
    "y_predict, y_test = bm.historical_average_predict(\n",
    "    us_delay_1, period=2*18, test_ratio=0.2)\n",
    "ha_a_mae, ha_a_rmse, ha_a_mape = bm.test_error(y_predict, y_test)\n",
    "y_predict, y_test = bm.historical_average_predict(\n",
    "    us_delay_2, period=2*18, test_ratio=0.2)\n",
    "ha_d_mae, ha_d_rmse, ha_d_mape = bm.test_error(y_predict, y_test)\n",
    "print(\n",
    "    f\"The test error for arrival prediction delay using HA is {round(ha_a_mae,3), round(ha_a_rmse,3), round(ha_a_mape,3)}\")\n",
    "print(\n",
    "    f\"The test error for delay prediction delay using HA is {round(ha_d_mae,3), round(ha_d_rmse,3), round(ha_d_mape,3)}\")"
   ]
  },
  {
   "cell_type": "markdown",
   "metadata": {},
   "source": [
    "# VAR\n"
   ]
  },
  {
   "cell_type": "code",
   "execution_count": 6,
   "metadata": {},
   "outputs": [],
   "source": [
    "time = [2, 5, 11]"
   ]
  },
  {
   "cell_type": "code",
   "execution_count": 7,
   "metadata": {},
   "outputs": [
    {
     "name": "stdout",
     "output_type": "stream",
     "text": [
      "Error of VAR in 3-step arrival: (7.795, 10.468, 1.211)\n",
      "Error of VAR in 6-step arrival: (8.123, 10.824, 1.224)\n",
      "Error of VAR in 12-step arrival: (8.479, 11.237, 1.216)\n",
      "Error of VAR in 3-step departure: (5.561, 7.656, 1.129)\n",
      "Error of VAR in 6-step departure: (5.817, 7.925, 1.14)\n",
      "Error of VAR in 12-step departure: (6.165, 8.304, 1.129)\n"
     ]
    }
   ],
   "source": [
    "# y_predict_a, y_test_a = bm.var_predict(cn_delay_1, test_ratio=0.2)\n",
    "# y_predict_d, y_test_d = bm.var_predict(cn_delay_2, test_ratio=0.2)\n",
    "y_predict_a, y_test_a = bm.var_predict(us_delay_1, test_ratio=0.2)\n",
    "y_predict_d, y_test_d = bm.var_predict(us_delay_2, test_ratio=0.2)\n",
    "var_a_mae = []\n",
    "var_a_rmse = []\n",
    "var_a_mape = []\n",
    "var_d_mae = []\n",
    "var_d_rmse = []\n",
    "var_d_mape = []\n",
    "for i in time:\n",
    "    a, b, c = bm.test_error(y_predict_a[i, :, :].T, y_test_a)\n",
    "    var_a_mae.append(round(a, 3))\n",
    "    var_a_rmse.append(round(b, 3))\n",
    "    var_a_mape.append(round(c, 3))\n",
    "    a, b, c = bm.test_error(y_predict_d[i, :, :].T, y_test_d)\n",
    "    var_d_mae.append(round(a, 3))\n",
    "    var_d_rmse.append(round(b, 3))\n",
    "    var_d_mape.append(round(c, 3))\n",
    "\n",
    "for i, x in enumerate(zip(var_a_mae, var_a_rmse, var_a_mape)):\n",
    "    print(f\"Error of VAR in {time[i]+1}-step arrival: {x}\")\n",
    "\n",
    "for i, x in enumerate(zip(var_d_mae, var_d_rmse, var_d_mape)):\n",
    "    print(f\"Error of VAR in {time[i]+1}-step departure: {x}\")"
   ]
  },
  {
   "cell_type": "markdown",
   "metadata": {},
   "source": [
    "# ARIMA\n"
   ]
  },
  {
   "cell_type": "code",
   "execution_count": 8,
   "metadata": {},
   "outputs": [],
   "source": [
    "# y_predict_a, y_test_a = bm.arima_predict(cn_delay_1, test_ratio=0.02)\n",
    "# y_predict_d, y_test_d = bm.arima_predict(cn_delay_2, test_ratio=0.02)\n",
    "\n",
    "y_predict_a, y_test_a = bm.arima_predict(us_delay_1, test_ratio=0.02)\n",
    "y_predict_d, y_test_d = bm.arima_predict(us_delay_2, test_ratio=0.02)"
   ]
  },
  {
   "cell_type": "code",
   "execution_count": 9,
   "metadata": {},
   "outputs": [
    {
     "name": "stdout",
     "output_type": "stream",
     "text": [
      "0\n",
      "(12, 1578, 70)\n",
      "(70, 1578)\n"
     ]
    }
   ],
   "source": [
    "print(np.sum(np.isnan(y_predict_a)))\n",
    "print(y_predict_a.shape)\n",
    "print(y_test_a.shape)"
   ]
  },
  {
   "cell_type": "code",
   "execution_count": 10,
   "metadata": {},
   "outputs": [
    {
     "name": "stdout",
     "output_type": "stream",
     "text": [
      "Error of ARIMA in 3-step arrival: (10.508, 13.894, 2.436)\n",
      "Error of ARIMA in 6-step arrival: (10.481, 13.863, 2.419)\n",
      "Error of ARIMA in 12-step arrival: (10.599, 14.02, 2.48)\n",
      "Error of ARIMA in 3-step departure: (7.607, 10.549, 1.133)\n",
      "Error of ARIMA in 6-step departure: (7.587, 10.551, 1.123)\n",
      "Error of ARIMA in 12-step departure: (7.653, 10.643, 1.142)\n"
     ]
    }
   ],
   "source": [
    "arima_a_mae = []\n",
    "arima_a_rmse = []\n",
    "arima_a_mape = []\n",
    "arima_d_mae = []\n",
    "arima_d_rmse = []\n",
    "arima_d_mape = []\n",
    "for i in time:\n",
    "    a, b, c = bm.test_error(y_predict_a[i, :, :].T, y_test_a)\n",
    "    arima_a_mae.append(round(a, 3))\n",
    "    arima_a_rmse.append(round(b, 3))\n",
    "    arima_a_mape.append(round(c, 3))\n",
    "    a, b, c = bm.test_error(y_predict_d[i, :, :].T, y_test_d)\n",
    "    arima_d_mae.append(round(a, 3))\n",
    "    arima_d_rmse.append(round(b, 3))\n",
    "    arima_d_mape.append(round(c, 3))\n",
    "\n",
    "for i, x in enumerate(zip(arima_a_mae, arima_a_rmse, arima_a_mape)):\n",
    "    print(f\"Error of ARIMA in {time[i]+1}-step arrival: {x}\")\n",
    "\n",
    "for i, x in enumerate(zip(arima_d_mae, arima_d_rmse, arima_d_mape)):\n",
    "    print(f\"Error of ARIMA in {time[i]+1}-step departure: {x}\")"
   ]
  },
  {
   "cell_type": "markdown",
   "metadata": {},
   "source": [
    "# SVM\n"
   ]
  },
  {
   "cell_type": "code",
   "execution_count": 3,
   "metadata": {},
   "outputs": [
    {
     "name": "stderr",
     "output_type": "stream",
     "text": [
      "  9%|▊         | 6/70 [3:40:27<38:59:45, 2193.52s/it]"
     ]
    }
   ],
   "source": [
    "# y_predict_a, y_test_a = bm.var_predict_svr(cn_delay_1, test_ratio=0.2)\n",
    "# y_predict_d, y_test_d = bm.var_predict_svr(cn_delay_2, test_ratio=0.2)\n",
    "y_predict_a, y_test_a = bm.var_predict_svr(us_delay_1, test_ratio=0.2)\n",
    "y_predict_d, y_test_d = bm.var_predict_svr(us_delay_2, test_ratio=0.2)\n",
    "np.savez(\"tmp_svr.npz\", y_predict_a=y_predict_a, y_test_a=y_test_a,\n",
    "         y_predict_d=y_predict_d, y_test_d=y_test_d)"
   ]
  },
  {
   "cell_type": "code",
   "execution_count": null,
   "metadata": {},
   "outputs": [],
   "source": [
    "# y_test_a = y_test_a[:-36]\n",
    "time = [2, 5, 11]\n",
    "out_len = 12\n",
    "var_a_mae = []\n",
    "var_a_rmse = []\n",
    "var_a_mape = []\n",
    "var_d_mae = []\n",
    "var_d_rmse = []\n",
    "var_d_mape = []\n",
    "\n",
    "for i in time:\n",
    "    shift = i+1\n",
    "    num_sample = y_test_a.shape[-1]\n",
    "    a, b, c = bm.test_error(\n",
    "        y_predict_a[:, :, i], y_test_a[:, shift:num_sample-(out_len-shift)])\n",
    "    # y_predict_a: [T, N]  y_test_a: [T, N], shift `i+1` slots\n",
    "    var_a_mae.append(round(a, 3))\n",
    "    var_a_rmse.append(round(b, 3))\n",
    "    var_a_mape.append(round(c, 3))\n",
    "    a, b, c = bm.test_error(\n",
    "        y_predict_d[:, :, i], y_test_d[:, shift:num_sample-(out_len-shift)])\n",
    "    # y_predict_a: [T, N]  y_test_a: [T, N], shift `i+1` slots\n",
    "    var_d_mae.append(round(a, 3))\n",
    "    var_d_rmse.append(round(b, 3))\n",
    "    var_d_mape.append(round(c, 3))\n",
    "\n",
    "for i, x in enumerate(zip(var_a_mae, var_a_rmse, var_a_mape)):\n",
    "    print(f\"Error of SVM in {(time[i]+1)}-step arrival: {x}\")\n",
    "\n",
    "for i, x in enumerate(zip(var_d_mae, var_d_rmse, var_d_mape)):\n",
    "    print(f\"Error of SVM in {(time[i]+1)}-step departure: {x}\")"
   ]
  }
 ],
 "metadata": {
  "kernelspec": {
   "display_name": "Python 3 (ipykernel)",
   "language": "python",
   "name": "python3"
  },
  "language_info": {
   "codemirror_mode": {
    "name": "ipython",
    "version": 3
   },
   "file_extension": ".py",
   "mimetype": "text/x-python",
   "name": "python",
   "nbconvert_exporter": "python",
   "pygments_lexer": "ipython3",
   "version": "3.9.16"
  }
 },
 "nbformat": 4,
 "nbformat_minor": 2
}
