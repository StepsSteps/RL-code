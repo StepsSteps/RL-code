{
 "cells": [
  {
   "cell_type": "code",
   "execution_count": 1,
   "metadata": {},
   "outputs": [],
   "source": [
    "import baseline_methods as bm\n",
    "import numpy as np\n",
    "import pandas as pd\n",
    "%load_ext autoreload\n",
    "%autoreload 2"
   ]
  },
  {
   "cell_type": "code",
   "execution_count": null,
   "metadata": {},
   "outputs": [],
   "source": [
    "us_delay = np.load('./udata/udelay.npy')\n",
    "print(us_delay.shape)\n",
    "# Shape(N, T, F)\n",
    "\n",
    "# us_delay_1 arrival delay\n",
    "us_delay_1 = us_delay[:, :, 0]\n",
    "# us_delay_1 departure delay\n",
    "us_delay_2 = us_delay[:, :, 1]\n",
    "\n",
    "print(us_delay_1.shape)"
   ]
  },
  {
   "cell_type": "code",
   "execution_count": null,
   "metadata": {},
   "outputs": [],
   "source": [
    "# y_predict_a, y_test_a = bm.var_predict_svr(cn_delay_1, test_ratio=0.2)\n",
    "# y_predict_d, y_test_d = bm.var_predict_svr(cn_delay_2, test_ratio=0.2)\n",
    "y_predict_a, y_test_a = bm.var_predict_svr(us_delay_1, test_ratio=0.2)\n",
    "y_predict_d, y_test_d = bm.var_predict_svr(us_delay_2, test_ratio=0.2)\n",
    "np.savez(\"tmp_svr.npz\", y_predict_a=y_predict_a, y_test_a=y_test_a,\n",
    "         y_predict_d=y_predict_d, y_test_d=y_test_d)"
   ]
  },
  {
   "cell_type": "code",
   "execution_count": null,
   "metadata": {},
   "outputs": [],
   "source": [
    "# y_test_a = y_test_a[:-36]\n",
    "time = [2, 5, 11]\n",
    "out_len = 12\n",
    "var_a_mae = []\n",
    "var_a_rmse = []\n",
    "var_a_mape = []\n",
    "var_d_mae = []\n",
    "var_d_rmse = []\n",
    "var_d_mape = []\n",
    "\n",
    "for i in time:\n",
    "    shift = i+1\n",
    "    num_sample = y_test_a.shape[-1]\n",
    "    a, b, c = bm.test_error(\n",
    "        y_predict_a[:, :, i], y_test_a[:, shift:num_sample-(out_len-shift)])\n",
    "    # y_predict_a: [T, N]  y_test_a: [T, N], shift `i+1` slots\n",
    "    var_a_mae.append(round(a, 3))\n",
    "    var_a_rmse.append(round(b, 3))\n",
    "    var_a_mape.append(round(c, 3))\n",
    "    a, b, c = bm.test_error(\n",
    "        y_predict_d[:, :, i], y_test_d[:, shift:num_sample-(out_len-shift)])\n",
    "    # y_predict_a: [T, N]  y_test_a: [T, N], shift `i+1` slots\n",
    "    var_d_mae.append(round(a, 3))\n",
    "    var_d_rmse.append(round(b, 3))\n",
    "    var_d_mape.append(round(c, 3))\n",
    "\n",
    "for i, x in enumerate(zip(var_a_mae, var_a_rmse, var_a_mape)):\n",
    "    print(f\"Error of SVM in {(time[i]+1)}-step arrival: {x}\")\n",
    "\n",
    "for i, x in enumerate(zip(var_d_mae, var_d_rmse, var_d_mape)):\n",
    "    print(f\"Error of SVM in {(time[i]+1)}-step departure: {x}\")"
   ]
  }
 ],
 "metadata": {
  "kernelspec": {
   "display_name": "torch_env",
   "language": "python",
   "name": "python3"
  },
  "language_info": {
   "codemirror_mode": {
    "name": "ipython",
    "version": 3
   },
   "file_extension": ".py",
   "mimetype": "text/x-python",
   "name": "python",
   "nbconvert_exporter": "python",
   "pygments_lexer": "ipython3",
   "version": "3.11.4"
  },
  "orig_nbformat": 4
 },
 "nbformat": 4,
 "nbformat_minor": 2
}
