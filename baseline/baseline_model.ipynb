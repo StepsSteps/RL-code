{
 "cells": [
  {
   "cell_type": "code",
   "execution_count": 1,
   "metadata": {},
   "outputs": [],
   "source": [
    "import baseline_methods as bm\n",
    "import numpy as np\n",
    "import pandas as pd\n",
    "%load_ext autoreload\n",
    "%autoreload 2"
   ]
  },
  {
   "cell_type": "code",
   "execution_count": 2,
   "metadata": {},
   "outputs": [
    {
     "name": "stdout",
     "output_type": "stream",
     "text": [
      "(50, 27468, 2)\n"
     ]
    }
   ],
   "source": [
    "#cn_delay = np.load('./cdata/China.npz')\n",
    "#cn_delay = cn_delay['data']\n",
    "#cn_delay = cn_delay.transpose(1,0,2)\n",
    "cn_delay = np.load('./cdata/delay.npy')\n",
    "print(cn_delay.shape)\n",
    "# Shape(N, T, F)\n",
    "\n",
    "#cn_delay_1 arrival delay \n",
    "cn_delay_1 = cn_delay[:,:,0]\n",
    "#cn_delay_1 departure delay \n",
    "cn_delay_2 = cn_delay[:,:,1]"
   ]
  },
  {
   "cell_type": "code",
   "execution_count": 3,
   "metadata": {},
   "outputs": [
    {
     "data": {
      "text/plain": [
       "(50, 27468)"
      ]
     },
     "execution_count": 3,
     "metadata": {},
     "output_type": "execute_result"
    }
   ],
   "source": [
    "cn_delay_1.shape"
   ]
  },
  {
   "cell_type": "markdown",
   "metadata": {},
   "source": [
    "# HA"
   ]
  },
  {
   "cell_type": "code",
   "execution_count": 6,
   "metadata": {},
   "outputs": [
    {
     "name": "stdout",
     "output_type": "stream",
     "text": [
      "The test error for arrival prediction delay using HA is (10.72, 13.123, 0.889)\n",
      "The test error for delay prediction delay using HA is (10.441, 12.929, 0.807)\n"
     ]
    }
   ],
   "source": [
    "y_predict,y_test = bm.historical_average_predict(cn_delay_1,period=2*18,test_ratio=0.2)\n",
    "ha_a_mae,ha_a_rmse,ha_a_mape =bm.test_error(y_predict,y_test)\n",
    "y_predict,y_test = bm.historical_average_predict(cn_delay_2,period=2*18,test_ratio=0.2)\n",
    "ha_d_mae,ha_d_rmse,ha_d_mape = bm.test_error(y_predict,y_test)\n",
    "print(f\"The test error for arrival prediction delay using HA is {round(ha_a_mae,3), round(ha_a_rmse,3), round(ha_a_mape,3)}\")\n",
    "print(f\"The test error for delay prediction delay using HA is {round(ha_d_mae,3), round(ha_d_rmse,3), round(ha_d_mape,3)}\")"
   ]
  },
  {
   "cell_type": "markdown",
   "metadata": {},
   "source": [
    "# VAR"
   ]
  },
  {
   "cell_type": "code",
   "execution_count": 8,
   "metadata": {},
   "outputs": [],
   "source": [
    "time = [2,5,11]"
   ]
  },
  {
   "cell_type": "code",
   "execution_count": 8,
   "metadata": {},
   "outputs": [
    {
     "name": "stdout",
     "output_type": "stream",
     "text": [
      "Error of VAR in 3-step arrival: (9.3, 11.621, 0.873)\n",
      "Error of VAR in 6-step arrival: (9.819, 12.136, 0.845)\n",
      "Error of VAR in 12-step arrival: (10.571, 12.848, 0.806)\n",
      "Error of VAR in 3-step departure: (9.718, 12.065, 0.784)\n",
      "Error of VAR in 6-step departure: (10.324, 12.635, 0.734)\n",
      "Error of VAR in 12-step departure: (10.918, 13.16, 0.682)\n"
     ]
    }
   ],
   "source": [
    "y_predict_a,y_test_a = bm.var_predict(cn_delay_1,test_ratio=0.2)\n",
    "y_predict_d,y_test_d = bm.var_predict(cn_delay_2,test_ratio=0.2)\n",
    "var_a_mae = []\n",
    "var_a_rmse = []\n",
    "var_a_mape = []\n",
    "var_d_mae = []\n",
    "var_d_rmse = []\n",
    "var_d_mape = []\n",
    "for i in time:\n",
    "    a,b,c =bm.test_error(y_predict_a[i,:,:].T,y_test_a)\n",
    "    var_a_mae.append(round(a,3))\n",
    "    var_a_rmse.append(round(b,3))\n",
    "    var_a_mape.append(round(c,3))\n",
    "    a,b,c =bm.test_error(y_predict_d[i,:,:].T,y_test_d)\n",
    "    var_d_mae.append(round(a,3))\n",
    "    var_d_rmse.append(round(b,3))\n",
    "    var_d_mape.append(round(c,3))\n",
    "\n",
    "for i, x in enumerate(zip(var_a_mae, var_a_rmse, var_a_mape)):\n",
    "    print(f\"Error of VAR in {time[i]+1}-step arrival: {x}\")\n",
    "\n",
    "for i, x in enumerate(zip(var_d_mae, var_d_rmse, var_d_mape)):\n",
    "    print(f\"Error of VAR in {time[i]+1}-step departure: {x}\")"
   ]
  },
  {
   "cell_type": "markdown",
   "metadata": {},
   "source": [
    "# ARIMA"
   ]
  },
  {
   "cell_type": "code",
   "execution_count": 5,
   "metadata": {},
   "outputs": [],
   "source": [
    "y_predict_a, y_test_a=bm.arima_predict(cn_delay_1,test_ratio=0.02)\n",
    "y_predict_d, y_test_d=bm.arima_predict(cn_delay_2,test_ratio=0.02)"
   ]
  },
  {
   "cell_type": "code",
   "execution_count": 6,
   "metadata": {},
   "outputs": [
    {
     "name": "stdout",
     "output_type": "stream",
     "text": [
      "0\n",
      "(12, 549, 50)\n",
      "(50, 549)\n"
     ]
    }
   ],
   "source": [
    "print(np.sum(np.isnan(y_predict_a)))\n",
    "print(y_predict_a.shape)\n",
    "print(y_test_a.shape)"
   ]
  },
  {
   "cell_type": "code",
   "execution_count": 9,
   "metadata": {},
   "outputs": [
    {
     "name": "stdout",
     "output_type": "stream",
     "text": [
      "Error of ARIMA in 3-step arrival: (11.085, 13.239, 0.781)\n",
      "Error of ARIMA in 6-step arrival: (11.032, 13.185, 0.785)\n",
      "Error of ARIMA in 12-step arrival: (11.099, 13.263, 0.779)\n",
      "Error of ARIMA in 3-step departure: (11.61, 13.66, 0.664)\n",
      "Error of ARIMA in 6-step departure: (11.593, 13.658, 0.651)\n",
      "Error of ARIMA in 12-step departure: (11.639, 13.687, 0.657)\n"
     ]
    }
   ],
   "source": [
    "arima_a_mae = []\n",
    "arima_a_rmse = []\n",
    "arima_a_mape = []\n",
    "arima_d_mae = []\n",
    "arima_d_rmse = []\n",
    "arima_d_mape = []\n",
    "for i in time:\n",
    "    a,b,c =bm.test_error(y_predict_a[i,:,:].T,y_test_a)\n",
    "    arima_a_mae.append(round(a,3))\n",
    "    arima_a_rmse.append(round(b,3))\n",
    "    arima_a_mape.append(round(c,3))\n",
    "    a,b,c =bm.test_error(y_predict_d[i,:,:].T,y_test_d)\n",
    "    arima_d_mae.append(round(a,3))\n",
    "    arima_d_rmse.append(round(b,3))\n",
    "    arima_d_mape.append(round(c,3))\n",
    "\n",
    "for i, x in enumerate(zip(arima_a_mae, arima_a_rmse, arima_a_mape)):\n",
    "    print(f\"Error of ARIMA in {time[i]+1}-step arrival: {x}\")\n",
    "\n",
    "for i, x in enumerate(zip(arima_d_mae, arima_d_rmse, arima_d_mape)):\n",
    "    print(f\"Error of ARIMA in {time[i]+1}-step departure: {x}\")"
   ]
  },
  {
   "cell_type": "markdown",
   "metadata": {},
   "source": [
    "# SVM"
   ]
  },
  {
   "cell_type": "code",
   "execution_count": 4,
   "metadata": {},
   "outputs": [
    {
     "name": "stderr",
     "output_type": "stream",
     "text": [
      "100%|██████████| 50/50 [2:12:49<00:00, 159.39s/it]  \n"
     ]
    },
    {
     "name": "stdout",
     "output_type": "stream",
     "text": [
      "result (50, 5446, 12); df_test (50, 5458)\n"
     ]
    },
    {
     "name": "stderr",
     "output_type": "stream",
     "text": [
      "100%|██████████| 50/50 [1:57:26<00:00, 140.94s/it]  "
     ]
    },
    {
     "name": "stdout",
     "output_type": "stream",
     "text": [
      "result (50, 5446, 12); df_test (50, 5458)\n"
     ]
    },
    {
     "name": "stderr",
     "output_type": "stream",
     "text": [
      "\n"
     ]
    }
   ],
   "source": [
    "y_predict_a, y_test_a=bm.var_predict_svr(cn_delay_1,test_ratio=0.2)\n",
    "y_predict_d, y_test_d=bm.var_predict_svr(cn_delay_2,test_ratio=0.2)\n",
    "np.savez(\"tmp_svr.npz\", y_predict_a=y_predict_a, y_test_a=y_test_a, y_predict_d=y_predict_d, y_test_d=y_test_d)"
   ]
  },
  {
   "cell_type": "code",
   "execution_count": 7,
   "metadata": {},
   "outputs": [
    {
     "name": "stdout",
     "output_type": "stream",
     "text": [
      "Error of SVM in 3-step arrival: (9.904, 12.457, 0.969)\n",
      "Error of SVM in 6-step arrival: (10.315, 12.871, 1.001)\n",
      "Error of SVM in 12-step arrival: (10.528, 13.113, 1.02)\n",
      "Error of SVM in 3-step departure: (10.185, 12.805, 0.899)\n",
      "Error of SVM in 6-step departure: (10.474, 13.128, 0.923)\n",
      "Error of SVM in 12-step departure: (10.62, 13.308, 0.937)\n"
     ]
    }
   ],
   "source": [
    "#y_test_a = y_test_a[:-36]\n",
    "time = [2, 5, 11]\n",
    "out_len = 12\n",
    "var_a_mae = []\n",
    "var_a_rmse = []\n",
    "var_a_mape = []\n",
    "var_d_mae = []\n",
    "var_d_rmse = []\n",
    "var_d_mape = []\n",
    "\n",
    "for i in time:\n",
    "    shift = i+1\n",
    "    num_sample = y_test_a.shape[-1]\n",
    "    a,b,c =bm.test_error(y_predict_a[:, :, i],y_test_a[:, shift:num_sample-(out_len-shift)])\n",
    "    # y_predict_a: [T, N]  y_test_a: [T, N], shift `i+1` slots\n",
    "    var_a_mae.append(round(a,3))\n",
    "    var_a_rmse.append(round(b,3))\n",
    "    var_a_mape.append(round(c,3))\n",
    "    a,b,c =bm.test_error(y_predict_d[:, :, i],y_test_d[:, shift:num_sample-(out_len-shift)])\n",
    "    # y_predict_a: [T, N]  y_test_a: [T, N], shift `i+1` slots\n",
    "    var_d_mae.append(round(a,3))\n",
    "    var_d_rmse.append(round(b,3))\n",
    "    var_d_mape.append(round(c,3))\n",
    "\n",
    "for i, x in enumerate(zip(var_a_mae, var_a_rmse, var_a_mape)):\n",
    "    print(f\"Error of SVM in {(time[i]+1)}-step arrival: {x}\")\n",
    "\n",
    "for i, x in enumerate(zip(var_d_mae, var_d_rmse, var_d_mape)):\n",
    "    print(f\"Error of SVM in {(time[i]+1)}-step departure: {x}\")"
   ]
  }
 ],
 "metadata": {
  "kernelspec": {
   "display_name": "Python 3",
   "language": "python",
   "name": "python3"
  },
  "language_info": {
   "codemirror_mode": {
    "name": "ipython",
    "version": 3
   },
   "file_extension": ".py",
   "mimetype": "text/x-python",
   "name": "python",
   "nbconvert_exporter": "python",
   "pygments_lexer": "ipython3",
   "version": "3.9.16"
  },
  "orig_nbformat": 4
 },
 "nbformat": 4,
 "nbformat_minor": 2
}
