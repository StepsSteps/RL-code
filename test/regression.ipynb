{
 "cells": [
  {
   "cell_type": "code",
   "execution_count": 1,
   "metadata": {},
   "outputs": [],
   "source": [
    "import numpy as np"
   ]
  },
  {
   "cell_type": "code",
   "execution_count": 2,
   "metadata": {},
   "outputs": [],
   "source": [
    "def compute_error_for_line_given_points(b, m, points):\n",
    "    totalError = 0\n",
    "    for i in range(0, len(points)):\n",
    "        x = points[i, 0]\n",
    "        y = points[i, 1]\n",
    "        totalError += (y - (m * x + b)) ** 2\n",
    "    return totalError / float(len(points))\n",
    "\n",
    "\n",
    "def step_gradient(b_current, w_current, points, learningRate):\n",
    "    # gradient descent\n",
    "    b_gradient = 0\n",
    "    w_gradient = 0\n",
    "    N = float(len(points))\n",
    "    for i in range(0, len(points)):\n",
    "        x = points[i, 0]\n",
    "        y = points[i, 1]\n",
    "        # direction with respect to b and w\n",
    "        # computing partial derivatives of our error function\n",
    "        b_gradient += -(2/N) * (y - ((w_current * x) + b_current))\n",
    "        w_gradient += -(2/N) * x * (y - ((w_current * x) + b_current))\n",
    "    # update our b and w values using our partial derivatives\n",
    "    new_b = b_current - (learningRate * b_gradient)\n",
    "    new_w = w_current - (learningRate * w_gradient)\n",
    "    return [new_b, new_w]\n",
    "\n",
    "\n",
    "def gradient_descent_runner(points, starting_b, starting_w, learning_rate, num_iterations):\n",
    "    # starting b and w\n",
    "    b = starting_b\n",
    "    w = starting_w\n",
    "    # gradient descent\n",
    "    for i in range(num_iterations):\n",
    "        # update b and w with the new more accurate b and w by performing\n",
    "        # this gradient step\n",
    "        b, w = step_gradient(b, w, np.array(points), learning_rate)\n",
    "    return [b, w]\n",
    "\n",
    "\n",
    "def run():\n",
    "    # Step 1 - collect our data in a numpy array\n",
    "    points = np.genfromtxt(\"data.csv\", delimiter=\",\")\n",
    "    # Step 2 - define our hyperparameters\n",
    "    # how fast should our model converge?\n",
    "    learning_rate = 0.0001\n",
    "    # y = mx + b (slope formula)\n",
    "    initial_b = 0\n",
    "    initial_w = 0\n",
    "    num_iterations = 1000\n",
    "    # Step 3 - train our model\n",
    "    print(\"Starting gradient descent at b = {0}, w = {1}, error = {2}\".format(\n",
    "        initial_b, initial_w,\n",
    "        compute_error_for_line_given_points(initial_b, initial_w, points))\n",
    "    )\n",
    "    print(\"Running...\")\n",
    "    [b, w] = gradient_descent_runner(\n",
    "        points, initial_b, initial_w, learning_rate, num_iterations)\n",
    "    print(\"After {0} iterations b = {1}, w = {2}, error = {3}\".format(\n",
    "        num_iterations, b, w,\n",
    "        compute_error_for_line_given_points(b, w, points))\n",
    "    )"
   ]
  }
 ],
 "metadata": {
  "kernelspec": {
   "display_name": "torch_env",
   "language": "python",
   "name": "python3"
  },
  "language_info": {
   "codemirror_mode": {
    "name": "ipython",
    "version": 3
   },
   "file_extension": ".py",
   "mimetype": "text/x-python",
   "name": "python",
   "nbconvert_exporter": "python",
   "pygments_lexer": "ipython3",
   "version": "3.11.4"
  },
  "orig_nbformat": 4
 },
 "nbformat": 4,
 "nbformat_minor": 2
}
